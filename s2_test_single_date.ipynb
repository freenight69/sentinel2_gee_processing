{
 "cells": [
  {
   "cell_type": "code",
   "execution_count": 1,
   "metadata": {},
   "outputs": [
    {
     "name": "stdout",
     "output_type": "stream",
     "text": [
      "Downloading Raw Image: 20200423T023551_20200423T024357_T51RUQ to F:/download/sentinel2_preprocess/2020\\20200423T023551_20200423T024357_T51RUQ.tif\n"
     ]
    },
    {
     "name": "stderr",
     "output_type": "stream",
     "text": [
      "Consider adjusting `region`, `scale` and/or `dtype` to reduce the 20200423T023551_20200423T024357_T51RUQ.tif download size (raw: 11.56 GB).\n"
     ]
    },
    {
     "data": {
      "application/vnd.jupyter.widget-view+json": {
       "model_id": "9b24370906d64745a71fd50ce144babf",
       "version_major": 2,
       "version_minor": 0
      },
      "text/plain": [
       "20200423T023551_20200423T024357_T51RUQ.tif: |          | 0.00/11.6G (raw) [  0.0%] in 00:00 (eta:     ?)"
      ]
     },
     "metadata": {},
     "output_type": "display_data"
    },
    {
     "name": "stderr",
     "output_type": "stream",
     "text": [
      "There is no STAC entry for: None\n",
      "Consider adjusting `region`, `scale` and/or `dtype` to reduce the 20200423T023551_20200423T024357_T51RUQ_NDVI.tif download size (raw: 1.16 GB).\n"
     ]
    },
    {
     "data": {
      "application/vnd.jupyter.widget-view+json": {
       "model_id": "4f354858c6a0444088a6ddeee5611ce9",
       "version_major": 2,
       "version_minor": 0
      },
      "text/plain": [
       "20200423T023551_20200423T024357_T51RUQ_NDVI.tif: |          | 0.00/1.16G (raw) [  0.0%] in 00:00 (eta:     ?)"
      ]
     },
     "metadata": {},
     "output_type": "display_data"
    },
    {
     "name": "stdout",
     "output_type": "stream",
     "text": [
      "Downloading Raw Image: 20200425T022549_20200425T023818_T51RUQ to F:/download/sentinel2_preprocess/2020\\20200425T022549_20200425T023818_T51RUQ.tif\n"
     ]
    },
    {
     "name": "stderr",
     "output_type": "stream",
     "text": [
      "Consider adjusting `region`, `scale` and/or `dtype` to reduce the 20200425T022549_20200425T023818_T51RUQ.tif download size (raw: 8.03 GB).\n"
     ]
    },
    {
     "data": {
      "application/vnd.jupyter.widget-view+json": {
       "model_id": "ce37fba255054ef796c7eb97ddea42af",
       "version_major": 2,
       "version_minor": 0
      },
      "text/plain": [
       "20200425T022549_20200425T023818_T51RUQ.tif: |          | 0.00/8.03G (raw) [  0.0%] in 00:00 (eta:     ?)"
      ]
     },
     "metadata": {},
     "output_type": "display_data"
    },
    {
     "data": {
      "application/vnd.jupyter.widget-view+json": {
       "model_id": "e7614e063eb34c6d91fc29fb96d19b0f",
       "version_major": 2,
       "version_minor": 0
      },
      "text/plain": [
       "20200425T022549_20200425T023818_T51RUQ_NDVI.tif: |          | 0.00/803M (raw) [  0.0%] in 00:00 (eta:     ?)"
      ]
     },
     "metadata": {},
     "output_type": "display_data"
    },
    {
     "name": "stdout",
     "output_type": "stream",
     "text": [
      "Downloading Raw Image: 20200428T023549_20200428T024442_T51RUQ to F:/download/sentinel2_preprocess/2020\\20200428T023549_20200428T024442_T51RUQ.tif\n"
     ]
    },
    {
     "name": "stderr",
     "output_type": "stream",
     "text": [
      "Consider adjusting `region`, `scale` and/or `dtype` to reduce the 20200428T023549_20200428T024442_T51RUQ.tif download size (raw: 11.56 GB).\n"
     ]
    },
    {
     "data": {
      "application/vnd.jupyter.widget-view+json": {
       "model_id": "2f2b74ed71e74ed99f043e59f1e5c728",
       "version_major": 2,
       "version_minor": 0
      },
      "text/plain": [
       "20200428T023549_20200428T024442_T51RUQ.tif: |          | 0.00/11.6G (raw) [  0.0%] in 00:00 (eta:     ?)"
      ]
     },
     "metadata": {},
     "output_type": "display_data"
    },
    {
     "name": "stderr",
     "output_type": "stream",
     "text": [
      "Consider adjusting `region`, `scale` and/or `dtype` to reduce the 20200428T023549_20200428T024442_T51RUQ_NDVI.tif download size (raw: 1.16 GB).\n"
     ]
    },
    {
     "data": {
      "application/vnd.jupyter.widget-view+json": {
       "model_id": "3c50e9005edb47dcb9bf6b04c90f3451",
       "version_major": 2,
       "version_minor": 0
      },
      "text/plain": [
       "20200428T023549_20200428T024442_T51RUQ_NDVI.tif: |          | 0.00/1.16G (raw) [  0.0%] in 00:00 (eta:     ?)"
      ]
     },
     "metadata": {},
     "output_type": "display_data"
    },
    {
     "name": "stdout",
     "output_type": "stream",
     "text": [
      "Downloading Raw Image: 20200430T022551_20200430T023826_T51RUQ to F:/download/sentinel2_preprocess/2020\\20200430T022551_20200430T023826_T51RUQ.tif\n"
     ]
    },
    {
     "name": "stderr",
     "output_type": "stream",
     "text": [
      "Consider adjusting `region`, `scale` and/or `dtype` to reduce the 20200430T022551_20200430T023826_T51RUQ.tif download size (raw: 8.23 GB).\n"
     ]
    },
    {
     "data": {
      "application/vnd.jupyter.widget-view+json": {
       "model_id": "011780b69a2b4584a5b56fb7a2363454",
       "version_major": 2,
       "version_minor": 0
      },
      "text/plain": [
       "20200430T022551_20200430T023826_T51RUQ.tif: |          | 0.00/8.23G (raw) [  0.0%] in 00:00 (eta:     ?)"
      ]
     },
     "metadata": {},
     "output_type": "display_data"
    },
    {
     "data": {
      "application/vnd.jupyter.widget-view+json": {
       "model_id": "eb2ba2cd41554276960943741a88b5a5",
       "version_major": 2,
       "version_minor": 0
      },
      "text/plain": [
       "20200430T022551_20200430T023826_T51RUQ_NDVI.tif: |          | 0.00/823M (raw) [  0.0%] in 00:00 (eta:     ?)"
      ]
     },
     "metadata": {},
     "output_type": "display_data"
    },
    {
     "name": "stdout",
     "output_type": "stream",
     "text": [
      "Downloading Raw Image: 20200503T023551_20200503T024124_T51RUQ to F:/download/sentinel2_preprocess/2020\\20200503T023551_20200503T024124_T51RUQ.tif\n"
     ]
    },
    {
     "name": "stderr",
     "output_type": "stream",
     "text": [
      "Consider adjusting `region`, `scale` and/or `dtype` to reduce the 20200503T023551_20200503T024124_T51RUQ.tif download size (raw: 11.56 GB).\n"
     ]
    },
    {
     "data": {
      "application/vnd.jupyter.widget-view+json": {
       "model_id": "709e75205c924b738fe47f9ad8c00c8d",
       "version_major": 2,
       "version_minor": 0
      },
      "text/plain": [
       "20200503T023551_20200503T024124_T51RUQ.tif: |          | 0.00/11.6G (raw) [  0.0%] in 00:00 (eta:     ?)"
      ]
     },
     "metadata": {},
     "output_type": "display_data"
    },
    {
     "name": "stderr",
     "output_type": "stream",
     "text": [
      "Consider adjusting `region`, `scale` and/or `dtype` to reduce the 20200503T023551_20200503T024124_T51RUQ_NDVI.tif download size (raw: 1.16 GB).\n"
     ]
    },
    {
     "data": {
      "application/vnd.jupyter.widget-view+json": {
       "model_id": "2ab51e4584c442a1b6a1f707b84e3b3c",
       "version_major": 2,
       "version_minor": 0
      },
      "text/plain": [
       "20200503T023551_20200503T024124_T51RUQ_NDVI.tif: |          | 0.00/1.16G (raw) [  0.0%] in 00:00 (eta:     ?)"
      ]
     },
     "metadata": {},
     "output_type": "display_data"
    },
    {
     "name": "stdout",
     "output_type": "stream",
     "text": [
      "Downloading Raw Image: 20200513T023551_20200513T024443_T51RUQ to F:/download/sentinel2_preprocess/2020\\20200513T023551_20200513T024443_T51RUQ.tif\n"
     ]
    },
    {
     "name": "stderr",
     "output_type": "stream",
     "text": [
      "Consider adjusting `region`, `scale` and/or `dtype` to reduce the 20200513T023551_20200513T024443_T51RUQ.tif download size (raw: 11.55 GB).\n"
     ]
    },
    {
     "data": {
      "application/vnd.jupyter.widget-view+json": {
       "model_id": "956460d8e028485b9202d18a98ccfbee",
       "version_major": 2,
       "version_minor": 0
      },
      "text/plain": [
       "20200513T023551_20200513T024443_T51RUQ.tif: |          | 0.00/11.6G (raw) [  0.0%] in 00:00 (eta:     ?)"
      ]
     },
     "metadata": {},
     "output_type": "display_data"
    },
    {
     "name": "stderr",
     "output_type": "stream",
     "text": [
      "Consider adjusting `region`, `scale` and/or `dtype` to reduce the 20200513T023551_20200513T024443_T51RUQ_NDVI.tif download size (raw: 1.16 GB).\n"
     ]
    },
    {
     "data": {
      "application/vnd.jupyter.widget-view+json": {
       "model_id": "8e557454030b4fc2bf8e400afa86fb60",
       "version_major": 2,
       "version_minor": 0
      },
      "text/plain": [
       "20200513T023551_20200513T024443_T51RUQ_NDVI.tif: |          | 0.00/1.16G (raw) [  0.0%] in 00:00 (eta:     ?)"
      ]
     },
     "metadata": {},
     "output_type": "display_data"
    },
    {
     "name": "stdout",
     "output_type": "stream",
     "text": [
      "Downloading Raw Image: 20200520T022601_20200520T023829_T51RUQ to F:/download/sentinel2_preprocess/2020\\20200520T022601_20200520T023829_T51RUQ.tif\n"
     ]
    },
    {
     "name": "stderr",
     "output_type": "stream",
     "text": [
      "Consider adjusting `region`, `scale` and/or `dtype` to reduce the 20200520T022601_20200520T023829_T51RUQ.tif download size (raw: 8.27 GB).\n"
     ]
    },
    {
     "data": {
      "application/vnd.jupyter.widget-view+json": {
       "model_id": "3c37ab189f2d4d96a36c0d3ce0cbb10c",
       "version_major": 2,
       "version_minor": 0
      },
      "text/plain": [
       "20200520T022601_20200520T023829_T51RUQ.tif: |          | 0.00/8.27G (raw) [  0.0%] in 00:00 (eta:     ?)"
      ]
     },
     "metadata": {},
     "output_type": "display_data"
    },
    {
     "data": {
      "application/vnd.jupyter.widget-view+json": {
       "model_id": "c8d0968fcf6247979d984de679efd172",
       "version_major": 2,
       "version_minor": 0
      },
      "text/plain": [
       "20200520T022601_20200520T023829_T51RUQ_NDVI.tif: |          | 0.00/827M (raw) [  0.0%] in 00:00 (eta:     ?)"
      ]
     },
     "metadata": {},
     "output_type": "display_data"
    },
    {
     "name": "stdout",
     "output_type": "stream",
     "text": [
      "Downloading Raw Image: 20200602T023601_20200602T024000_T51RUQ to F:/download/sentinel2_preprocess/2020\\20200602T023601_20200602T024000_T51RUQ.tif\n"
     ]
    },
    {
     "name": "stderr",
     "output_type": "stream",
     "text": [
      "Consider adjusting `region`, `scale` and/or `dtype` to reduce the 20200602T023601_20200602T024000_T51RUQ.tif download size (raw: 11.55 GB).\n"
     ]
    },
    {
     "data": {
      "application/vnd.jupyter.widget-view+json": {
       "model_id": "91a8fe1ada694bb2894f780d57857664",
       "version_major": 2,
       "version_minor": 0
      },
      "text/plain": [
       "20200602T023601_20200602T024000_T51RUQ.tif: |          | 0.00/11.6G (raw) [  0.0%] in 00:00 (eta:     ?)"
      ]
     },
     "metadata": {},
     "output_type": "display_data"
    },
    {
     "name": "stderr",
     "output_type": "stream",
     "text": [
      "Consider adjusting `region`, `scale` and/or `dtype` to reduce the 20200602T023601_20200602T024000_T51RUQ_NDVI.tif download size (raw: 1.16 GB).\n"
     ]
    },
    {
     "data": {
      "application/vnd.jupyter.widget-view+json": {
       "model_id": "1a29733ad43c411788e85dbf825614a6",
       "version_major": 2,
       "version_minor": 0
      },
      "text/plain": [
       "20200602T023601_20200602T024000_T51RUQ_NDVI.tif: |          | 0.00/1.16G (raw) [  0.0%] in 00:00 (eta:     ?)"
      ]
     },
     "metadata": {},
     "output_type": "display_data"
    },
    {
     "name": "stdout",
     "output_type": "stream",
     "text": [
      "Downloading Raw Image: 20200607T023549_20200607T024726_T51RUQ to F:/download/sentinel2_preprocess/2020\\20200607T023549_20200607T024726_T51RUQ.tif\n"
     ]
    },
    {
     "name": "stderr",
     "output_type": "stream",
     "text": [
      "Consider adjusting `region`, `scale` and/or `dtype` to reduce the 20200607T023549_20200607T024726_T51RUQ.tif download size (raw: 11.56 GB).\n"
     ]
    },
    {
     "data": {
      "application/vnd.jupyter.widget-view+json": {
       "model_id": "e0c53d84593c4d7aab0a0e5f1def8497",
       "version_major": 2,
       "version_minor": 0
      },
      "text/plain": [
       "20200607T023549_20200607T024726_T51RUQ.tif: |          | 0.00/11.6G (raw) [  0.0%] in 00:00 (eta:     ?)"
      ]
     },
     "metadata": {},
     "output_type": "display_data"
    },
    {
     "name": "stderr",
     "output_type": "stream",
     "text": [
      "Consider adjusting `region`, `scale` and/or `dtype` to reduce the 20200607T023549_20200607T024726_T51RUQ_NDVI.tif download size (raw: 1.16 GB).\n"
     ]
    },
    {
     "data": {
      "application/vnd.jupyter.widget-view+json": {
       "model_id": "18e65abc90fc4800bbbcd6bacc254724",
       "version_major": 2,
       "version_minor": 0
      },
      "text/plain": [
       "20200607T023549_20200607T024726_T51RUQ_NDVI.tif: |          | 0.00/1.16G (raw) [  0.0%] in 00:00 (eta:     ?)"
      ]
     },
     "metadata": {},
     "output_type": "display_data"
    },
    {
     "name": "stdout",
     "output_type": "stream",
     "text": [
      "Downloading Raw Image: 20200722T023551_20200722T024332_T51RUQ to F:/download/sentinel2_preprocess/2020\\20200722T023551_20200722T024332_T51RUQ.tif\n"
     ]
    },
    {
     "name": "stderr",
     "output_type": "stream",
     "text": [
      "Consider adjusting `region`, `scale` and/or `dtype` to reduce the 20200722T023551_20200722T024332_T51RUQ.tif download size (raw: 11.56 GB).\n"
     ]
    },
    {
     "data": {
      "application/vnd.jupyter.widget-view+json": {
       "model_id": "70cb4a22fc9047f28d0ccb933583017e",
       "version_major": 2,
       "version_minor": 0
      },
      "text/plain": [
       "20200722T023551_20200722T024332_T51RUQ.tif: |          | 0.00/11.6G (raw) [  0.0%] in 00:00 (eta:     ?)"
      ]
     },
     "metadata": {},
     "output_type": "display_data"
    },
    {
     "name": "stderr",
     "output_type": "stream",
     "text": [
      "Consider adjusting `region`, `scale` and/or `dtype` to reduce the 20200722T023551_20200722T024332_T51RUQ_NDVI.tif download size (raw: 1.16 GB).\n"
     ]
    },
    {
     "data": {
      "application/vnd.jupyter.widget-view+json": {
       "model_id": "f0208e6379c24d94a103e758c3efaff1",
       "version_major": 2,
       "version_minor": 0
      },
      "text/plain": [
       "20200722T023551_20200722T024332_T51RUQ_NDVI.tif: |          | 0.00/1.16G (raw) [  0.0%] in 00:00 (eta:     ?)"
      ]
     },
     "metadata": {},
     "output_type": "display_data"
    },
    {
     "name": "stdout",
     "output_type": "stream",
     "text": [
      "Downloading Raw Image: 20200801T023551_20200801T024723_T51RUQ to F:/download/sentinel2_preprocess/2020\\20200801T023551_20200801T024723_T51RUQ.tif\n"
     ]
    },
    {
     "name": "stderr",
     "output_type": "stream",
     "text": [
      "Consider adjusting `region`, `scale` and/or `dtype` to reduce the 20200801T023551_20200801T024723_T51RUQ.tif download size (raw: 11.56 GB).\n"
     ]
    },
    {
     "data": {
      "application/vnd.jupyter.widget-view+json": {
       "model_id": "4e31c58791ee4e1c959b8d483bc93564",
       "version_major": 2,
       "version_minor": 0
      },
      "text/plain": [
       "20200801T023551_20200801T024723_T51RUQ.tif: |          | 0.00/11.6G (raw) [  0.0%] in 00:00 (eta:     ?)"
      ]
     },
     "metadata": {},
     "output_type": "display_data"
    },
    {
     "name": "stderr",
     "output_type": "stream",
     "text": [
      "Consider adjusting `region`, `scale` and/or `dtype` to reduce the 20200801T023551_20200801T024723_T51RUQ_NDVI.tif download size (raw: 1.16 GB).\n"
     ]
    },
    {
     "data": {
      "application/vnd.jupyter.widget-view+json": {
       "model_id": "97f08adf22a2412993c778a299b96b83",
       "version_major": 2,
       "version_minor": 0
      },
      "text/plain": [
       "20200801T023551_20200801T024723_T51RUQ_NDVI.tif: |          | 0.00/1.16G (raw) [  0.0%] in 00:00 (eta:     ?)"
      ]
     },
     "metadata": {},
     "output_type": "display_data"
    },
    {
     "name": "stdout",
     "output_type": "stream",
     "text": [
      "Downloading Raw Image: 20200803T022549_20200803T023833_T51RUQ to F:/download/sentinel2_preprocess/2020\\20200803T022549_20200803T023833_T51RUQ.tif\n"
     ]
    },
    {
     "name": "stderr",
     "output_type": "stream",
     "text": [
      "Consider adjusting `region`, `scale` and/or `dtype` to reduce the 20200803T022549_20200803T023833_T51RUQ.tif download size (raw: 8.10 GB).\n"
     ]
    },
    {
     "data": {
      "application/vnd.jupyter.widget-view+json": {
       "model_id": "f288708fcf5b444898480410a7831bf6",
       "version_major": 2,
       "version_minor": 0
      },
      "text/plain": [
       "20200803T022549_20200803T023833_T51RUQ.tif: |          | 0.00/8.10G (raw) [  0.0%] in 00:00 (eta:     ?)"
      ]
     },
     "metadata": {},
     "output_type": "display_data"
    },
    {
     "data": {
      "application/vnd.jupyter.widget-view+json": {
       "model_id": "c61cd2ef7f6041e0a3221ff23c766b46",
       "version_major": 2,
       "version_minor": 0
      },
      "text/plain": [
       "20200803T022549_20200803T023833_T51RUQ_NDVI.tif: |          | 0.00/810M (raw) [  0.0%] in 00:00 (eta:     ?)"
      ]
     },
     "metadata": {},
     "output_type": "display_data"
    },
    {
     "name": "stdout",
     "output_type": "stream",
     "text": [
      "Downloading Raw Image: 20200813T022549_20200813T023833_T51RUQ to F:/download/sentinel2_preprocess/2020\\20200813T022549_20200813T023833_T51RUQ.tif\n"
     ]
    },
    {
     "name": "stderr",
     "output_type": "stream",
     "text": [
      "Consider adjusting `region`, `scale` and/or `dtype` to reduce the 20200813T022549_20200813T023833_T51RUQ.tif download size (raw: 8.12 GB).\n"
     ]
    },
    {
     "data": {
      "application/vnd.jupyter.widget-view+json": {
       "model_id": "429ae45cd8624160b82d5b5927d61f44",
       "version_major": 2,
       "version_minor": 0
      },
      "text/plain": [
       "20200813T022549_20200813T023833_T51RUQ.tif: |          | 0.00/8.12G (raw) [  0.0%] in 00:00 (eta:     ?)"
      ]
     },
     "metadata": {},
     "output_type": "display_data"
    },
    {
     "data": {
      "application/vnd.jupyter.widget-view+json": {
       "model_id": "9f86374310f54dddbde7e156b6993416",
       "version_major": 2,
       "version_minor": 0
      },
      "text/plain": [
       "20200813T022549_20200813T023833_T51RUQ_NDVI.tif: |          | 0.00/812M (raw) [  0.0%] in 00:00 (eta:     ?)"
      ]
     },
     "metadata": {},
     "output_type": "display_data"
    },
    {
     "name": "stdout",
     "output_type": "stream",
     "text": [
      "Downloading Raw Image: 20200816T023549_20200816T024732_T51RUQ to F:/download/sentinel2_preprocess/2020\\20200816T023549_20200816T024732_T51RUQ.tif\n"
     ]
    },
    {
     "name": "stderr",
     "output_type": "stream",
     "text": [
      "Consider adjusting `region`, `scale` and/or `dtype` to reduce the 20200816T023549_20200816T024732_T51RUQ.tif download size (raw: 11.56 GB).\n"
     ]
    },
    {
     "data": {
      "application/vnd.jupyter.widget-view+json": {
       "model_id": "018b2c83f1124aeea14049f6b15921c3",
       "version_major": 2,
       "version_minor": 0
      },
      "text/plain": [
       "20200816T023549_20200816T024732_T51RUQ.tif: |          | 0.00/11.6G (raw) [  0.0%] in 00:00 (eta:     ?)"
      ]
     },
     "metadata": {},
     "output_type": "display_data"
    },
    {
     "name": "stderr",
     "output_type": "stream",
     "text": [
      "Consider adjusting `region`, `scale` and/or `dtype` to reduce the 20200816T023549_20200816T024732_T51RUQ_NDVI.tif download size (raw: 1.16 GB).\n"
     ]
    },
    {
     "data": {
      "application/vnd.jupyter.widget-view+json": {
       "model_id": "e87aeba04e0e48ce876587033f38a320",
       "version_major": 2,
       "version_minor": 0
      },
      "text/plain": [
       "20200816T023549_20200816T024732_T51RUQ_NDVI.tif: |          | 0.00/1.16G (raw) [  0.0%] in 00:00 (eta:     ?)"
      ]
     },
     "metadata": {},
     "output_type": "display_data"
    },
    {
     "name": "stdout",
     "output_type": "stream",
     "text": [
      "Downloading Raw Image: 20200818T022601_20200818T023829_T51RUQ to F:/download/sentinel2_preprocess/2020\\20200818T022601_20200818T023829_T51RUQ.tif\n"
     ]
    },
    {
     "name": "stderr",
     "output_type": "stream",
     "text": [
      "Consider adjusting `region`, `scale` and/or `dtype` to reduce the 20200818T022601_20200818T023829_T51RUQ.tif download size (raw: 8.21 GB).\n"
     ]
    },
    {
     "data": {
      "application/vnd.jupyter.widget-view+json": {
       "model_id": "ffba258ea69946bebfb8ddb988266288",
       "version_major": 2,
       "version_minor": 0
      },
      "text/plain": [
       "20200818T022601_20200818T023829_T51RUQ.tif: |          | 0.00/8.21G (raw) [  0.0%] in 00:00 (eta:     ?)"
      ]
     },
     "metadata": {},
     "output_type": "display_data"
    },
    {
     "data": {
      "application/vnd.jupyter.widget-view+json": {
       "model_id": "8946e45d528a49719fc50ef8ec455fbf",
       "version_major": 2,
       "version_minor": 0
      },
      "text/plain": [
       "20200818T022601_20200818T023829_T51RUQ_NDVI.tif: |          | 0.00/821M (raw) [  0.0%] in 00:00 (eta:     ?)"
      ]
     },
     "metadata": {},
     "output_type": "display_data"
    },
    {
     "name": "stdout",
     "output_type": "stream",
     "text": [
      "Downloading Raw Image: 20200823T022549_20200823T023833_T51RUQ to F:/download/sentinel2_preprocess/2020\\20200823T022549_20200823T023833_T51RUQ.tif\n"
     ]
    },
    {
     "name": "stderr",
     "output_type": "stream",
     "text": [
      "Consider adjusting `region`, `scale` and/or `dtype` to reduce the 20200823T022549_20200823T023833_T51RUQ.tif download size (raw: 8.14 GB).\n"
     ]
    },
    {
     "data": {
      "application/vnd.jupyter.widget-view+json": {
       "model_id": "905afbdddd8f474aaba3acd9faf0a113",
       "version_major": 2,
       "version_minor": 0
      },
      "text/plain": [
       "20200823T022549_20200823T023833_T51RUQ.tif: |          | 0.00/8.14G (raw) [  0.0%] in 00:00 (eta:     ?)"
      ]
     },
     "metadata": {},
     "output_type": "display_data"
    },
    {
     "data": {
      "application/vnd.jupyter.widget-view+json": {
       "model_id": "eb41daf0ca6948bc8e09931b9fd3d16e",
       "version_major": 2,
       "version_minor": 0
      },
      "text/plain": [
       "20200823T022549_20200823T023833_T51RUQ_NDVI.tif: |          | 0.00/814M (raw) [  0.0%] in 00:00 (eta:     ?)"
      ]
     },
     "metadata": {},
     "output_type": "display_data"
    },
    {
     "name": "stdout",
     "output_type": "stream",
     "text": [
      "Downloading Raw Image: 20200905T023549_20200905T024731_T51RUQ to F:/download/sentinel2_preprocess/2020\\20200905T023549_20200905T024731_T51RUQ.tif\n"
     ]
    },
    {
     "name": "stderr",
     "output_type": "stream",
     "text": [
      "Consider adjusting `region`, `scale` and/or `dtype` to reduce the 20200905T023549_20200905T024731_T51RUQ.tif download size (raw: 11.56 GB).\n"
     ]
    },
    {
     "data": {
      "application/vnd.jupyter.widget-view+json": {
       "model_id": "a0a3952c1f32414ea8e94054750cfc29",
       "version_major": 2,
       "version_minor": 0
      },
      "text/plain": [
       "20200905T023549_20200905T024731_T51RUQ.tif: |          | 0.00/11.6G (raw) [  0.0%] in 00:00 (eta:     ?)"
      ]
     },
     "metadata": {},
     "output_type": "display_data"
    },
    {
     "name": "stderr",
     "output_type": "stream",
     "text": [
      "Consider adjusting `region`, `scale` and/or `dtype` to reduce the 20200905T023549_20200905T024731_T51RUQ_NDVI.tif download size (raw: 1.16 GB).\n"
     ]
    },
    {
     "data": {
      "application/vnd.jupyter.widget-view+json": {
       "model_id": "d775c6df2287442ea28c3a601b39f097",
       "version_major": 2,
       "version_minor": 0
      },
      "text/plain": [
       "20200905T023549_20200905T024731_T51RUQ_NDVI.tif: |          | 0.00/1.16G (raw) [  0.0%] in 00:00 (eta:     ?)"
      ]
     },
     "metadata": {},
     "output_type": "display_data"
    },
    {
     "name": "stdout",
     "output_type": "stream",
     "text": [
      "Downloading Raw Image: 20200907T022551_20200907T023834_T51RUQ to F:/download/sentinel2_preprocess/2020\\20200907T022551_20200907T023834_T51RUQ.tif\n"
     ]
    },
    {
     "name": "stderr",
     "output_type": "stream",
     "text": [
      "Consider adjusting `region`, `scale` and/or `dtype` to reduce the 20200907T022551_20200907T023834_T51RUQ.tif download size (raw: 8.22 GB).\n"
     ]
    },
    {
     "data": {
      "application/vnd.jupyter.widget-view+json": {
       "model_id": "caffc81812ea4b66867ac851c1399d72",
       "version_major": 2,
       "version_minor": 0
      },
      "text/plain": [
       "20200907T022551_20200907T023834_T51RUQ.tif: |          | 0.00/8.22G (raw) [  0.0%] in 00:00 (eta:     ?)"
      ]
     },
     "metadata": {},
     "output_type": "display_data"
    },
    {
     "data": {
      "application/vnd.jupyter.widget-view+json": {
       "model_id": "fe4354cfe4444537a606375d1617dfa5",
       "version_major": 2,
       "version_minor": 0
      },
      "text/plain": [
       "20200907T022551_20200907T023834_T51RUQ_NDVI.tif: |          | 0.00/822M (raw) [  0.0%] in 00:00 (eta:     ?)"
      ]
     },
     "metadata": {},
     "output_type": "display_data"
    },
    {
     "name": "stdout",
     "output_type": "stream",
     "text": [
      "Downloading Raw Image: 20201017T022711_20201017T023425_T51RUQ to F:/download/sentinel2_preprocess/2020\\20201017T022711_20201017T023425_T51RUQ.tif\n"
     ]
    },
    {
     "name": "stderr",
     "output_type": "stream",
     "text": [
      "Consider adjusting `region`, `scale` and/or `dtype` to reduce the 20201017T022711_20201017T023425_T51RUQ.tif download size (raw: 8.22 GB).\n"
     ]
    },
    {
     "data": {
      "application/vnd.jupyter.widget-view+json": {
       "model_id": "91da5bbeb43c455bbdff2314be5e5ff7",
       "version_major": 2,
       "version_minor": 0
      },
      "text/plain": [
       "20201017T022711_20201017T023425_T51RUQ.tif: |          | 0.00/8.22G (raw) [  0.0%] in 00:00 (eta:     ?)"
      ]
     },
     "metadata": {},
     "output_type": "display_data"
    },
    {
     "data": {
      "application/vnd.jupyter.widget-view+json": {
       "model_id": "6321c5c1bf3a41a39ee14f255b88dfbf",
       "version_major": 2,
       "version_minor": 0
      },
      "text/plain": [
       "20201017T022711_20201017T023425_T51RUQ_NDVI.tif: |          | 0.00/822M (raw) [  0.0%] in 00:00 (eta:     ?)"
      ]
     },
     "metadata": {},
     "output_type": "display_data"
    },
    {
     "name": "stdout",
     "output_type": "stream",
     "text": [
      "Downloading Raw Image: 20201030T023831_20201030T023833_T51RUQ to F:/download/sentinel2_preprocess/2020\\20201030T023831_20201030T023833_T51RUQ.tif\n"
     ]
    },
    {
     "name": "stderr",
     "output_type": "stream",
     "text": [
      "Consider adjusting `region`, `scale` and/or `dtype` to reduce the 20201030T023831_20201030T023833_T51RUQ.tif download size (raw: 11.55 GB).\n"
     ]
    },
    {
     "data": {
      "application/vnd.jupyter.widget-view+json": {
       "model_id": "f95463d6627149e38cdb7918fc4cc254",
       "version_major": 2,
       "version_minor": 0
      },
      "text/plain": [
       "20201030T023831_20201030T023833_T51RUQ.tif: |          | 0.00/11.6G (raw) [  0.0%] in 00:00 (eta:     ?)"
      ]
     },
     "metadata": {},
     "output_type": "display_data"
    },
    {
     "name": "stderr",
     "output_type": "stream",
     "text": [
      "Consider adjusting `region`, `scale` and/or `dtype` to reduce the 20201030T023831_20201030T023833_T51RUQ_NDVI.tif download size (raw: 1.16 GB).\n"
     ]
    },
    {
     "data": {
      "application/vnd.jupyter.widget-view+json": {
       "model_id": "6a8be5dcc4ef433494b894f9c00102a0",
       "version_major": 2,
       "version_minor": 0
      },
      "text/plain": [
       "20201030T023831_20201030T023833_T51RUQ_NDVI.tif: |          | 0.00/1.16G (raw) [  0.0%] in 00:00 (eta:     ?)"
      ]
     },
     "metadata": {},
     "output_type": "display_data"
    },
    {
     "name": "stdout",
     "output_type": "stream",
     "text": [
      "Downloading Raw Image: 20201106T022911_20201106T022908_T51RUQ to F:/download/sentinel2_preprocess/2020\\20201106T022911_20201106T022908_T51RUQ.tif\n"
     ]
    },
    {
     "name": "stderr",
     "output_type": "stream",
     "text": [
      "Consider adjusting `region`, `scale` and/or `dtype` to reduce the 20201106T022911_20201106T022908_T51RUQ.tif download size (raw: 8.26 GB).\n"
     ]
    },
    {
     "data": {
      "application/vnd.jupyter.widget-view+json": {
       "model_id": "6fd4a538f7024b50a5b169052caa6a3b",
       "version_major": 2,
       "version_minor": 0
      },
      "text/plain": [
       "20201106T022911_20201106T022908_T51RUQ.tif: |          | 0.00/8.26G (raw) [  0.0%] in 00:00 (eta:     ?)"
      ]
     },
     "metadata": {},
     "output_type": "display_data"
    },
    {
     "data": {
      "application/vnd.jupyter.widget-view+json": {
       "model_id": "aebcad9550e44a309c05aefed643a725",
       "version_major": 2,
       "version_minor": 0
      },
      "text/plain": [
       "20201106T022911_20201106T022908_T51RUQ_NDVI.tif: |          | 0.00/826M (raw) [  0.0%] in 00:00 (eta:     ?)"
      ]
     },
     "metadata": {},
     "output_type": "display_data"
    },
    {
     "name": "stdout",
     "output_type": "stream",
     "text": [
      "Downloading Raw Image: 20201109T023931_20201109T024539_T51RUQ to F:/download/sentinel2_preprocess/2020\\20201109T023931_20201109T024539_T51RUQ.tif\n"
     ]
    },
    {
     "name": "stderr",
     "output_type": "stream",
     "text": [
      "Consider adjusting `region`, `scale` and/or `dtype` to reduce the 20201109T023931_20201109T024539_T51RUQ.tif download size (raw: 11.55 GB).\n"
     ]
    },
    {
     "data": {
      "application/vnd.jupyter.widget-view+json": {
       "model_id": "b509ab96c8534e37886c23aa4de62637",
       "version_major": 2,
       "version_minor": 0
      },
      "text/plain": [
       "20201109T023931_20201109T024539_T51RUQ.tif: |          | 0.00/11.6G (raw) [  0.0%] in 00:00 (eta:     ?)"
      ]
     },
     "metadata": {},
     "output_type": "display_data"
    },
    {
     "name": "stderr",
     "output_type": "stream",
     "text": [
      "Consider adjusting `region`, `scale` and/or `dtype` to reduce the 20201109T023931_20201109T024539_T51RUQ_NDVI.tif download size (raw: 1.16 GB).\n"
     ]
    },
    {
     "data": {
      "application/vnd.jupyter.widget-view+json": {
       "model_id": "0d60acb4f909446f88f7345a613b65e8",
       "version_major": 2,
       "version_minor": 0
      },
      "text/plain": [
       "20201109T023931_20201109T024539_T51RUQ_NDVI.tif: |          | 0.00/1.16G (raw) [  0.0%] in 00:00 (eta:     ?)"
      ]
     },
     "metadata": {},
     "output_type": "display_data"
    },
    {
     "name": "stdout",
     "output_type": "stream",
     "text": [
      "Downloading Raw Image: 20201129T024051_20201129T024045_T51RUQ to F:/download/sentinel2_preprocess/2020\\20201129T024051_20201129T024045_T51RUQ.tif\n"
     ]
    },
    {
     "name": "stderr",
     "output_type": "stream",
     "text": [
      "Consider adjusting `region`, `scale` and/or `dtype` to reduce the 20201129T024051_20201129T024045_T51RUQ.tif download size (raw: 11.56 GB).\n"
     ]
    },
    {
     "data": {
      "application/vnd.jupyter.widget-view+json": {
       "model_id": "638055b0de6f4eeb9158d71696fa3edc",
       "version_major": 2,
       "version_minor": 0
      },
      "text/plain": [
       "20201129T024051_20201129T024045_T51RUQ.tif: |          | 0.00/11.6G (raw) [  0.0%] in 00:00 (eta:     ?)"
      ]
     },
     "metadata": {},
     "output_type": "display_data"
    },
    {
     "name": "stderr",
     "output_type": "stream",
     "text": [
      "Consider adjusting `region`, `scale` and/or `dtype` to reduce the 20201129T024051_20201129T024045_T51RUQ_NDVI.tif download size (raw: 1.16 GB).\n"
     ]
    },
    {
     "data": {
      "application/vnd.jupyter.widget-view+json": {
       "model_id": "fe21ca497cbc4131bcfd8abf40ad061a",
       "version_major": 2,
       "version_minor": 0
      },
      "text/plain": [
       "20201129T024051_20201129T024045_T51RUQ_NDVI.tif: |          | 0.00/1.16G (raw) [  0.0%] in 00:00 (eta:     ?)"
      ]
     },
     "metadata": {},
     "output_type": "display_data"
    },
    {
     "name": "stdout",
     "output_type": "stream",
     "text": [
      "Downloading Raw Image: 20201201T023049_20201201T023046_T51RUQ to F:/download/sentinel2_preprocess/2020\\20201201T023049_20201201T023046_T51RUQ.tif\n"
     ]
    },
    {
     "name": "stderr",
     "output_type": "stream",
     "text": [
      "Consider adjusting `region`, `scale` and/or `dtype` to reduce the 20201201T023049_20201201T023046_T51RUQ.tif download size (raw: 8.16 GB).\n"
     ]
    },
    {
     "data": {
      "application/vnd.jupyter.widget-view+json": {
       "model_id": "25d736c0b3d8490c8a829938ca042c20",
       "version_major": 2,
       "version_minor": 0
      },
      "text/plain": [
       "20201201T023049_20201201T023046_T51RUQ.tif: |          | 0.00/8.16G (raw) [  0.0%] in 00:00 (eta:     ?)"
      ]
     },
     "metadata": {},
     "output_type": "display_data"
    },
    {
     "data": {
      "application/vnd.jupyter.widget-view+json": {
       "model_id": "036ddcd30fed4421b4cfbc272134d948",
       "version_major": 2,
       "version_minor": 0
      },
      "text/plain": [
       "20201201T023049_20201201T023046_T51RUQ_NDVI.tif: |          | 0.00/816M (raw) [  0.0%] in 00:00 (eta:     ?)"
      ]
     },
     "metadata": {},
     "output_type": "display_data"
    },
    {
     "name": "stdout",
     "output_type": "stream",
     "text": [
      "Downloading Raw Image: 20201209T024111_20201209T024804_T51RUQ to F:/download/sentinel2_preprocess/2020\\20201209T024111_20201209T024804_T51RUQ.tif\n"
     ]
    },
    {
     "name": "stderr",
     "output_type": "stream",
     "text": [
      "Consider adjusting `region`, `scale` and/or `dtype` to reduce the 20201209T024111_20201209T024804_T51RUQ.tif download size (raw: 11.56 GB).\n"
     ]
    },
    {
     "data": {
      "application/vnd.jupyter.widget-view+json": {
       "model_id": "cb70b2ab3eb6456fa0302e76893aafaa",
       "version_major": 2,
       "version_minor": 0
      },
      "text/plain": [
       "20201209T024111_20201209T024804_T51RUQ.tif: |          | 0.00/11.6G (raw) [  0.0%] in 00:00 (eta:     ?)"
      ]
     },
     "metadata": {},
     "output_type": "display_data"
    },
    {
     "name": "stderr",
     "output_type": "stream",
     "text": [
      "Consider adjusting `region`, `scale` and/or `dtype` to reduce the 20201209T024111_20201209T024804_T51RUQ_NDVI.tif download size (raw: 1.16 GB).\n"
     ]
    },
    {
     "data": {
      "application/vnd.jupyter.widget-view+json": {
       "model_id": "e3fddd635a5f4ae3bd5930f7b55bb90d",
       "version_major": 2,
       "version_minor": 0
      },
      "text/plain": [
       "20201209T024111_20201209T024804_T51RUQ_NDVI.tif: |          | 0.00/1.16G (raw) [  0.0%] in 00:00 (eta:     ?)"
      ]
     },
     "metadata": {},
     "output_type": "display_data"
    },
    {
     "name": "stdout",
     "output_type": "stream",
     "text": [
      "Downloading Raw Image: 20201214T024119_20201214T024624_T51RUQ to F:/download/sentinel2_preprocess/2020\\20201214T024119_20201214T024624_T51RUQ.tif\n"
     ]
    },
    {
     "name": "stderr",
     "output_type": "stream",
     "text": [
      "Consider adjusting `region`, `scale` and/or `dtype` to reduce the 20201214T024119_20201214T024624_T51RUQ.tif download size (raw: 11.56 GB).\n"
     ]
    },
    {
     "data": {
      "application/vnd.jupyter.widget-view+json": {
       "model_id": "87d9c0d8425341e5be812dcfb8dab187",
       "version_major": 2,
       "version_minor": 0
      },
      "text/plain": [
       "20201214T024119_20201214T024624_T51RUQ.tif: |          | 0.00/11.6G (raw) [  0.0%] in 00:00 (eta:     ?)"
      ]
     },
     "metadata": {},
     "output_type": "display_data"
    },
    {
     "name": "stderr",
     "output_type": "stream",
     "text": [
      "Consider adjusting `region`, `scale` and/or `dtype` to reduce the 20201214T024119_20201214T024624_T51RUQ_NDVI.tif download size (raw: 1.16 GB).\n"
     ]
    },
    {
     "data": {
      "application/vnd.jupyter.widget-view+json": {
       "model_id": "bbed11483758437a80b3357796fcf54d",
       "version_major": 2,
       "version_minor": 0
      },
      "text/plain": [
       "20201214T024119_20201214T024624_T51RUQ_NDVI.tif: |          | 0.00/1.16G (raw) [  0.0%] in 00:00 (eta:     ?)"
      ]
     },
     "metadata": {},
     "output_type": "display_data"
    },
    {
     "name": "stdout",
     "output_type": "stream",
     "text": [
      "Downloading Raw Image: 20201216T023111_20201216T023829_T51RUQ to F:/download/sentinel2_preprocess/2020\\20201216T023111_20201216T023829_T51RUQ.tif\n"
     ]
    },
    {
     "name": "stderr",
     "output_type": "stream",
     "text": [
      "Consider adjusting `region`, `scale` and/or `dtype` to reduce the 20201216T023111_20201216T023829_T51RUQ.tif download size (raw: 8.10 GB).\n"
     ]
    },
    {
     "data": {
      "application/vnd.jupyter.widget-view+json": {
       "model_id": "efa1c00dc9f44b64a5dbb851be5e677e",
       "version_major": 2,
       "version_minor": 0
      },
      "text/plain": [
       "20201216T023111_20201216T023829_T51RUQ.tif: |          | 0.00/8.10G (raw) [  0.0%] in 00:00 (eta:     ?)"
      ]
     },
     "metadata": {},
     "output_type": "display_data"
    },
    {
     "data": {
      "application/vnd.jupyter.widget-view+json": {
       "model_id": "80c7e9066f1143ef98dfdd303440eae9",
       "version_major": 2,
       "version_minor": 0
      },
      "text/plain": [
       "20201216T023111_20201216T023829_T51RUQ_NDVI.tif: |          | 0.00/810M (raw) [  0.0%] in 00:00 (eta:     ?)"
      ]
     },
     "metadata": {},
     "output_type": "display_data"
    },
    {
     "name": "stdout",
     "output_type": "stream",
     "text": [
      "Downloading Raw Image: 20201221T023119_20201221T023113_T51RUQ to F:/download/sentinel2_preprocess/2020\\20201221T023119_20201221T023113_T51RUQ.tif\n"
     ]
    },
    {
     "name": "stderr",
     "output_type": "stream",
     "text": [
      "Consider adjusting `region`, `scale` and/or `dtype` to reduce the 20201221T023119_20201221T023113_T51RUQ.tif download size (raw: 8.10 GB).\n"
     ]
    },
    {
     "data": {
      "application/vnd.jupyter.widget-view+json": {
       "model_id": "ed6f7a25bec14084be438b57ce96755a",
       "version_major": 2,
       "version_minor": 0
      },
      "text/plain": [
       "20201221T023119_20201221T023113_T51RUQ.tif: |          | 0.00/8.10G (raw) [  0.0%] in 00:00 (eta:     ?)"
      ]
     },
     "metadata": {},
     "output_type": "display_data"
    },
    {
     "data": {
      "application/vnd.jupyter.widget-view+json": {
       "model_id": "5c27c1c46a164cf1a1e980b8fb932221",
       "version_major": 2,
       "version_minor": 0
      },
      "text/plain": [
       "20201221T023119_20201221T023113_T51RUQ_NDVI.tif: |          | 0.00/810M (raw) [  0.0%] in 00:00 (eta:     ?)"
      ]
     },
     "metadata": {},
     "output_type": "display_data"
    },
    {
     "name": "stdout",
     "output_type": "stream",
     "text": [
      "Downloading Raw Image: 20201231T023109_20201231T023111_T51RUQ to F:/download/sentinel2_preprocess/2020\\20201231T023109_20201231T023111_T51RUQ.tif\n"
     ]
    },
    {
     "name": "stderr",
     "output_type": "stream",
     "text": [
      "Consider adjusting `region`, `scale` and/or `dtype` to reduce the 20201231T023109_20201231T023111_T51RUQ.tif download size (raw: 8.15 GB).\n"
     ]
    },
    {
     "data": {
      "application/vnd.jupyter.widget-view+json": {
       "model_id": "da5db3f929d24f8abb45a637a6604a2b",
       "version_major": 2,
       "version_minor": 0
      },
      "text/plain": [
       "20201231T023109_20201231T023111_T51RUQ.tif: |          | 0.00/8.15G (raw) [  0.0%] in 00:00 (eta:     ?)"
      ]
     },
     "metadata": {},
     "output_type": "display_data"
    },
    {
     "data": {
      "application/vnd.jupyter.widget-view+json": {
       "model_id": "be46c2c2c29d43bba9b2ebb970abc08a",
       "version_major": 2,
       "version_minor": 0
      },
      "text/plain": [
       "20201231T023109_20201231T023111_T51RUQ_NDVI.tif: |          | 0.00/815M (raw) [  0.0%] in 00:00 (eta:     ?)"
      ]
     },
     "metadata": {},
     "output_type": "display_data"
    }
   ],
   "source": [
    "#!/usr/bin/env python\n",
    "# -*- coding: utf-8 -*-\n",
    "\"\"\"\n",
    "File: s2_test.py\n",
    "Version: v1.0\n",
    "Date: 2023-02-09\n",
    "Authors: Chen G.\n",
    "Description: This script creates downloading and processing Sentinel-2 images based on Google Earth Engine.\n",
    "License: This code is distributed under the MIT License.\n",
    "\n",
    "    Parameter:\n",
    "        START_DATE: The earliest date to include images for (inclusive).\n",
    "        END_DATE: The latest date to include images for (exclusive).\n",
    "        BANDS: The Sentinel-2 image bands to select for processing.\n",
    "        ROI: The boundry to select for processing.\n",
    "        MAX_CLOUD_PROBABILITY: (Optional) cloud cover percentage to apply s2 image collection filter.\n",
    "        CAL_NDVI: (Optional) calculate the Normalized Difference Vegetation Index (NDVI) from multiband s2 images.\n",
    "        CAL_NDMI: (Optional) calculate the Normalized Difference Moisture Index (NDMI) from multiband s2 images.\n",
    "        CLIP_TO_ROI: (Optional) clip the processed image to the region of interest.\n",
    "        SAVE_ASSETS : (Optional) exports the processed collection to an asset.\n",
    "        ASSET_ID : (Optional) the user id path to save the assets\n",
    "        SAVE_LOCAL : (Optional) download the processed images to local.\n",
    "        VISUALIZATION : (Optional) convert raw image to RGB image and download the processed images to local.\n",
    "        LOCAL_DIR : (Optional) where to save downloaded images.\n",
    "        \n",
    "    Returns:\n",
    "        An ee.ImageCollection with an analysis ready Sentinel 2 imagery with the cloud masked images and vegetation index band.\n",
    "\n",
    "\n",
    "    \"\"\"\n",
    "\n",
    "import ee\n",
    "import datetime\n",
    "import wrapper as wp\n",
    "\n",
    "\n",
    "# /***************************/\n",
    "# // MAIN\n",
    "# /***************************/\n",
    "# Parameters\n",
    "roi = ee.Geometry.Polygon(\n",
    "    [\n",
    "        [\n",
    "            [121.92043613887957, 30.980810353944268],\n",
    "            [121.92043613887957, 30.957701533859208],\n",
    "            [121.94240879512957, 30.957701533859208],\n",
    "            [121.94240879512957, 30.980810353944268]\n",
    "        ]\n",
    "    ]\n",
    ")\n",
    "\n",
    "dates_list_2019 = ['2019-01-24', '2019-03-12', '2019-03-15', '2019-03-17', '2019-03-20', '2019-04-01', '2019-04-06', '2019-05-04',\n",
    "                   '2019-05-09', '2019-05-11', '2019-05-24', '2019-06-03', '2019-06-15', '2019-06-28', '2019-07-15', '2019-07-23', \n",
    "                   '2019-07-25', '2019-07-30', '2019-08-12', '2019-08-14', '2019-08-17', '2019-08-22', '2019-09-18', '2019-10-03', \n",
    "                   '2019-10-31', '2019-11-15', '2019-11-17', '2019-11-20', '2019-12-02', '2019-12-07', '2019-12-10', '2019-12-12', \n",
    "                   '2019-12-15', '2019-12-30']\n",
    "\n",
    "dates_list_2020 = ['2020-01-06', '2020-01-21', '2020-01-31', '2020-02-05', '2020-02-10', '2020-02-18', '2020-02-20', '2020-02-23', \n",
    "                   '2020-03-06', '2020-03-16', '2020-03-19', '2020-03-21', '2020-03-24', '2020-04-05', '2020-04-08', '2020-04-13', \n",
    "                   '2020-04-15', '2020-04-23', '2020-04-25', '2020-04-28', '2020-04-30', '2020-05-03', '2020-05-13', '2020-05-20',\n",
    "                   '2020-06-02', '2020-06-07', '2020-07-22', '2020-08-01', '2020-08-03', '2020-08-13', '2020-08-16', '2020-08-18',\n",
    "                   '2020-08-23', '2020-09-05', '2020-09-07', '2020-10-17', '2020-10-30', '2020-11-06', '2020-11-09', '2020-11-29', \n",
    "                   '2020-12-01', '2020-12-09', '2020-12-14', '2020-12-16', '2020-12-21', '2020-12-31']\n",
    "\n",
    "dates_list = ['2020-04-23', '2020-04-25', '2020-04-28', '2020-04-30', '2020-05-03', '2020-05-13', '2020-05-20',\n",
    "              '2020-06-02', '2020-06-07', '2020-07-22', '2020-08-01', '2020-08-03', '2020-08-13', '2020-08-16', '2020-08-18',\n",
    "              '2020-08-23', '2020-09-05', '2020-09-07', '2020-10-17', '2020-10-30', '2020-11-06', '2020-11-09', '2020-11-29', \n",
    "              '2020-12-01', '2020-12-09', '2020-12-14', '2020-12-16', '2020-12-21', '2020-12-31']\n",
    "\n",
    "for d in dates_list:\n",
    "    sdate = datetime.datetime.strptime(d, \"%Y-%m-%d\")\n",
    "    edate = (sdate + datetime.timedelta(days=1)).strftime(\"%Y-%m-%d\")\n",
    "\n",
    "    parameter = {'START_DATE': sdate,\n",
    "                'END_DATE': edate,\n",
    "                'BANDS': ['B2', 'B3', 'B4', 'B5', 'B6', 'B7', 'B8', 'B8A', 'B11', 'B12'],\n",
    "                # 'ROI': ee.Geometry.Rectangle([-47.1634, -3.00071, -45.92746, -5.43836]),\n",
    "                'ROI': roi,\n",
    "                'MAX_CLOUD_PROBABILITY': 75,\n",
    "                'CAL_NDVI': True,\n",
    "                'CAL_NDMI': False,\n",
    "                'EXPORT_CRS': \"EPSG:4326\",\n",
    "                'EXPORT_SCALE': 10,\n",
    "                'CLIP_TO_ROI': False,\n",
    "                'SAVE_ASSET': False,\n",
    "                'ASSET_ID': \"users/gongchen9369\",\n",
    "                'SAVE_LOCAL': True,\n",
    "                'VISUALIZATION': False,\n",
    "                'RESAMPLE_SCALE': 150,\n",
    "                'LOCAL_DIR': \"F:/download/sentinel2_preprocess/2020\"\n",
    "                }\n",
    "    \n",
    "    # processed s1 collection\n",
    "    s2_processed = wp.s2_preprocess(parameter)"
   ]
  }
 ],
 "metadata": {
  "kernelspec": {
   "display_name": "gee",
   "language": "python",
   "name": "python3"
  },
  "language_info": {
   "codemirror_mode": {
    "name": "ipython",
    "version": 3
   },
   "file_extension": ".py",
   "mimetype": "text/x-python",
   "name": "python",
   "nbconvert_exporter": "python",
   "pygments_lexer": "ipython3",
   "version": "3.10.4"
  },
  "orig_nbformat": 4,
  "vscode": {
   "interpreter": {
    "hash": "896a7d79eada75efa10dad6f0d96b47f777beb9d98c3280bc138867997bd1c02"
   }
  }
 },
 "nbformat": 4,
 "nbformat_minor": 2
}
