{
 "cells": [
  {
   "cell_type": "code",
   "execution_count": 2,
   "metadata": {},
   "outputs": [
    {
     "name": "stdout",
     "output_type": "stream",
     "text": [
      "Downloading Raw Image: 20230120T023019_20230120T023711_T51RUQ to G:/test\\20230120T023019_20230120T023711_T51RUQ.tif\n"
     ]
    },
    {
     "data": {
      "application/vnd.jupyter.widget-view+json": {
       "model_id": "629d24fde1a84b32bb0094cd05e11aaa",
       "version_major": 2,
       "version_minor": 0
      },
      "text/plain": [
       "20230120T023019_20230120T023711_T51RUQ.tif: |          | 0.00/3.79M (raw) [  0.0%] in 00:00 (eta:     ?)"
      ]
     },
     "metadata": {},
     "output_type": "display_data"
    },
    {
     "name": "stdout",
     "output_type": "stream",
     "text": [
      "Downloading Visualization RGB Image to G:/test\\20230120T023019_20230120T023711_T51RUQ_VIS_RGB.tif\n",
      "Generating URL ...\n",
      "Downloading data from https://earthengine.googleapis.com/v1alpha/projects/earthengine-legacy/thumbnails/86a089b4abe4c16f639bc02240a0b755-537ec944db7c62eb3ef5252692bbb2e8:getPixels\n",
      "Please wait ...\n",
      "Data downloaded to G:\\test\\20230120T023019_20230120T023711_T51RUQ_VIS_RGB.tif\n",
      "Downloading Visualization NDVI Image to G:/test\\20230120T023019_20230120T023711_T51RUQ_VIS_NDVI.tif\n",
      "Generating URL ...\n",
      "Downloading data from https://earthengine.googleapis.com/v1alpha/projects/earthengine-legacy/thumbnails/4ef45f1a93d5ad90663a13674fd9f8c0-fdcd81ce7e690cbf7585ebd33cf5bc03:getPixels\n",
      "Please wait ...\n",
      "Data downloaded to G:\\test\\20230120T023019_20230120T023711_T51RUQ_VIS_NDVI.tif\n",
      "Downloading Raw Image: 20230120T023019_20230120T023711_T51RVQ to G:/test\\20230120T023019_20230120T023711_T51RVQ.tif\n"
     ]
    },
    {
     "data": {
      "application/vnd.jupyter.widget-view+json": {
       "model_id": "c7dde211283045b08b9328bb51f8929d",
       "version_major": 2,
       "version_minor": 0
      },
      "text/plain": [
       "20230120T023019_20230120T023711_T51RVQ.tif: |          | 0.00/3.79M (raw) [  0.0%] in 00:00 (eta:     ?)"
      ]
     },
     "metadata": {},
     "output_type": "display_data"
    },
    {
     "name": "stdout",
     "output_type": "stream",
     "text": [
      "Downloading Visualization RGB Image to G:/test\\20230120T023019_20230120T023711_T51RVQ_VIS_RGB.tif\n",
      "Generating URL ...\n",
      "Downloading data from https://earthengine.googleapis.com/v1alpha/projects/earthengine-legacy/thumbnails/a37fa136052165299257912cc9df978e-8b9b541a3d5d378b50657431fc833b62:getPixels\n",
      "Please wait ...\n",
      "Data downloaded to G:\\test\\20230120T023019_20230120T023711_T51RVQ_VIS_RGB.tif\n",
      "Downloading Visualization NDVI Image to G:/test\\20230120T023019_20230120T023711_T51RVQ_VIS_NDVI.tif\n",
      "Generating URL ...\n",
      "Downloading data from https://earthengine.googleapis.com/v1alpha/projects/earthengine-legacy/thumbnails/53aea0c9ade5610df47e149242da341b-2da6791cfb8c86acc194785ab0c5a6c3:getPixels\n",
      "Please wait ...\n",
      "Data downloaded to G:\\test\\20230120T023019_20230120T023711_T51RVQ_VIS_NDVI.tif\n",
      "Downloading Raw Image: 20230123T024009_20230123T024729_T51RUQ to G:/test\\20230123T024009_20230123T024729_T51RUQ.tif\n"
     ]
    },
    {
     "data": {
      "application/vnd.jupyter.widget-view+json": {
       "model_id": "bcefa7a29716411e9dec4a9ed90707e3",
       "version_major": 2,
       "version_minor": 0
      },
      "text/plain": [
       "20230123T024009_20230123T024729_T51RUQ.tif: |          | 0.00/3.79M (raw) [  0.0%] in 00:00 (eta:     ?)"
      ]
     },
     "metadata": {},
     "output_type": "display_data"
    },
    {
     "name": "stdout",
     "output_type": "stream",
     "text": [
      "Downloading Visualization RGB Image to G:/test\\20230123T024009_20230123T024729_T51RUQ_VIS_RGB.tif\n",
      "Generating URL ...\n",
      "Downloading data from https://earthengine.googleapis.com/v1alpha/projects/earthengine-legacy/thumbnails/b0511cd55985d949f07641896376cf26-23b43ff46e2d1a0da7bb45945891c01b:getPixels\n",
      "Please wait ...\n",
      "Data downloaded to G:\\test\\20230123T024009_20230123T024729_T51RUQ_VIS_RGB.tif\n",
      "Downloading Visualization NDVI Image to G:/test\\20230123T024009_20230123T024729_T51RUQ_VIS_NDVI.tif\n",
      "Generating URL ...\n",
      "Downloading data from https://earthengine.googleapis.com/v1alpha/projects/earthengine-legacy/thumbnails/7d5435bae23c929bc4f0df1ea099bf52-5a3ed414b919b27491d79ed8434f39f3:getPixels\n",
      "Please wait ...\n",
      "Data downloaded to G:\\test\\20230123T024009_20230123T024729_T51RUQ_VIS_NDVI.tif\n",
      "Downloading Raw Image: 20230123T024009_20230123T024729_T51RVQ to G:/test\\20230123T024009_20230123T024729_T51RVQ.tif\n"
     ]
    },
    {
     "data": {
      "application/vnd.jupyter.widget-view+json": {
       "model_id": "4f5bc1dfce4a421db4ccc88618b01017",
       "version_major": 2,
       "version_minor": 0
      },
      "text/plain": [
       "20230123T024009_20230123T024729_T51RVQ.tif: |          | 0.00/3.79M (raw) [  0.0%] in 00:00 (eta:     ?)"
      ]
     },
     "metadata": {},
     "output_type": "display_data"
    },
    {
     "name": "stdout",
     "output_type": "stream",
     "text": [
      "Downloading Visualization RGB Image to G:/test\\20230123T024009_20230123T024729_T51RVQ_VIS_RGB.tif\n",
      "Generating URL ...\n",
      "Downloading data from https://earthengine.googleapis.com/v1alpha/projects/earthengine-legacy/thumbnails/52e3cba2a73969b8f780160eef2304dd-62d109fce401e0299df7ea079817642a:getPixels\n",
      "Please wait ...\n",
      "Data downloaded to G:\\test\\20230123T024009_20230123T024729_T51RVQ_VIS_RGB.tif\n",
      "Downloading Visualization NDVI Image to G:/test\\20230123T024009_20230123T024729_T51RVQ_VIS_NDVI.tif\n",
      "Generating URL ...\n",
      "Downloading data from https://earthengine.googleapis.com/v1alpha/projects/earthengine-legacy/thumbnails/e5bd498c5aa71ebc699e4fe28d60c872-a8a52c398ce8bfba9926f322985e70db:getPixels\n",
      "Please wait ...\n",
      "Data downloaded to G:\\test\\20230123T024009_20230123T024729_T51RVQ_VIS_NDVI.tif\n",
      "Downloading Raw Image: 20230125T023001_20230125T023649_T51RUQ to G:/test\\20230125T023001_20230125T023649_T51RUQ.tif\n"
     ]
    },
    {
     "data": {
      "application/vnd.jupyter.widget-view+json": {
       "model_id": "295884d7697944c1a4e469f9cd60a9b8",
       "version_major": 2,
       "version_minor": 0
      },
      "text/plain": [
       "20230125T023001_20230125T023649_T51RUQ.tif: |          | 0.00/3.79M (raw) [  0.0%] in 00:00 (eta:     ?)"
      ]
     },
     "metadata": {},
     "output_type": "display_data"
    },
    {
     "name": "stdout",
     "output_type": "stream",
     "text": [
      "Downloading Visualization RGB Image to G:/test\\20230125T023001_20230125T023649_T51RUQ_VIS_RGB.tif\n",
      "Generating URL ...\n",
      "Downloading data from https://earthengine.googleapis.com/v1alpha/projects/earthengine-legacy/thumbnails/e13e4cd2b8fdde1fe696c41d8f51f712-6feb42b24bf2e10a82db516432e511db:getPixels\n",
      "Please wait ...\n",
      "Data downloaded to G:\\test\\20230125T023001_20230125T023649_T51RUQ_VIS_RGB.tif\n",
      "Downloading Visualization NDVI Image to G:/test\\20230125T023001_20230125T023649_T51RUQ_VIS_NDVI.tif\n",
      "Generating URL ...\n",
      "Downloading data from https://earthengine.googleapis.com/v1alpha/projects/earthengine-legacy/thumbnails/e5ef5d40b73093dcf22f4a3927792b4f-8e6e20264b94bbed60766a640bae308a:getPixels\n",
      "Please wait ...\n",
      "Data downloaded to G:\\test\\20230125T023001_20230125T023649_T51RUQ_VIS_NDVI.tif\n",
      "Downloading Raw Image: 20230125T023001_20230125T023649_T51RVQ to G:/test\\20230125T023001_20230125T023649_T51RVQ.tif\n"
     ]
    },
    {
     "data": {
      "application/vnd.jupyter.widget-view+json": {
       "model_id": "a972ef6a9d35452eb0df0b8487b4a438",
       "version_major": 2,
       "version_minor": 0
      },
      "text/plain": [
       "20230125T023001_20230125T023649_T51RVQ.tif: |          | 0.00/3.79M (raw) [  0.0%] in 00:00 (eta:     ?)"
      ]
     },
     "metadata": {},
     "output_type": "display_data"
    },
    {
     "name": "stdout",
     "output_type": "stream",
     "text": [
      "Downloading Visualization RGB Image to G:/test\\20230125T023001_20230125T023649_T51RVQ_VIS_RGB.tif\n",
      "Generating URL ...\n",
      "Downloading data from https://earthengine.googleapis.com/v1alpha/projects/earthengine-legacy/thumbnails/0839b57e685483a45592706731373eca-b637fbd5a2753dbcbc64f127f442a83d:getPixels\n",
      "Please wait ...\n",
      "Data downloaded to G:\\test\\20230125T023001_20230125T023649_T51RVQ_VIS_RGB.tif\n",
      "Downloading Visualization NDVI Image to G:/test\\20230125T023001_20230125T023649_T51RVQ_VIS_NDVI.tif\n",
      "Generating URL ...\n",
      "Downloading data from https://earthengine.googleapis.com/v1alpha/projects/earthengine-legacy/thumbnails/e8bb7f19081aa139cb53d85c9e9d5979-1eb842a23abc0743e63f9e7543fffe74:getPixels\n",
      "Please wait ...\n",
      "Data downloaded to G:\\test\\20230125T023001_20230125T023649_T51RVQ_VIS_NDVI.tif\n",
      "Downloading Raw Image: 20230128T023951_20230128T024705_T51RUQ to G:/test\\20230128T023951_20230128T024705_T51RUQ.tif\n"
     ]
    },
    {
     "data": {
      "application/vnd.jupyter.widget-view+json": {
       "model_id": "a1e945a33022473bb94ca62589146404",
       "version_major": 2,
       "version_minor": 0
      },
      "text/plain": [
       "20230128T023951_20230128T024705_T51RUQ.tif: |          | 0.00/3.79M (raw) [  0.0%] in 00:00 (eta:     ?)"
      ]
     },
     "metadata": {},
     "output_type": "display_data"
    },
    {
     "name": "stdout",
     "output_type": "stream",
     "text": [
      "Downloading Visualization RGB Image to G:/test\\20230128T023951_20230128T024705_T51RUQ_VIS_RGB.tif\n",
      "Generating URL ...\n",
      "Downloading data from https://earthengine.googleapis.com/v1alpha/projects/earthengine-legacy/thumbnails/067b4bf9f57c2fc4cf851a3078b36eab-2def5f080b496e55fb293a8a854ec088:getPixels\n",
      "Please wait ...\n",
      "Data downloaded to G:\\test\\20230128T023951_20230128T024705_T51RUQ_VIS_RGB.tif\n",
      "Downloading Visualization NDVI Image to G:/test\\20230128T023951_20230128T024705_T51RUQ_VIS_NDVI.tif\n",
      "Generating URL ...\n",
      "Downloading data from https://earthengine.googleapis.com/v1alpha/projects/earthengine-legacy/thumbnails/2bbc99f4a249cf63407140129776e5d1-77eb42067874b8bcd97500d2f048d902:getPixels\n",
      "Please wait ...\n",
      "Data downloaded to G:\\test\\20230128T023951_20230128T024705_T51RUQ_VIS_NDVI.tif\n",
      "Downloading Raw Image: 20230128T023951_20230128T024705_T51RVQ to G:/test\\20230128T023951_20230128T024705_T51RVQ.tif\n"
     ]
    },
    {
     "data": {
      "application/vnd.jupyter.widget-view+json": {
       "model_id": "adfbecc4bb074e0386fcb01ed876c735",
       "version_major": 2,
       "version_minor": 0
      },
      "text/plain": [
       "20230128T023951_20230128T024705_T51RVQ.tif: |          | 0.00/3.79M (raw) [  0.0%] in 00:00 (eta:     ?)"
      ]
     },
     "metadata": {},
     "output_type": "display_data"
    },
    {
     "name": "stdout",
     "output_type": "stream",
     "text": [
      "Downloading Visualization RGB Image to G:/test\\20230128T023951_20230128T024705_T51RVQ_VIS_RGB.tif\n",
      "Generating URL ...\n",
      "Downloading data from https://earthengine.googleapis.com/v1alpha/projects/earthengine-legacy/thumbnails/51c1fc08cd19d07d7061ffdac02995eb-a5b726c5cd254605244b067d984c2d87:getPixels\n",
      "Please wait ...\n",
      "Data downloaded to G:\\test\\20230128T023951_20230128T024705_T51RVQ_VIS_RGB.tif\n",
      "Downloading Visualization NDVI Image to G:/test\\20230128T023951_20230128T024705_T51RVQ_VIS_NDVI.tif\n",
      "Generating URL ...\n",
      "Downloading data from https://earthengine.googleapis.com/v1alpha/projects/earthengine-legacy/thumbnails/d87f3e8625b5e48e2ef5bd7549efb98a-48c3fca743a02b5830254cb8f3706b60:getPixels\n",
      "Please wait ...\n",
      "Data downloaded to G:\\test\\20230128T023951_20230128T024705_T51RVQ_VIS_NDVI.tif\n",
      "Downloading Raw Image: 20230130T022939_20230130T023625_T51RUQ to G:/test\\20230130T022939_20230130T023625_T51RUQ.tif\n"
     ]
    },
    {
     "data": {
      "application/vnd.jupyter.widget-view+json": {
       "model_id": "4e4650de079f4d04a99c87ee76ea34aa",
       "version_major": 2,
       "version_minor": 0
      },
      "text/plain": [
       "20230130T022939_20230130T023625_T51RUQ.tif: |          | 0.00/3.79M (raw) [  0.0%] in 00:00 (eta:     ?)"
      ]
     },
     "metadata": {},
     "output_type": "display_data"
    },
    {
     "name": "stdout",
     "output_type": "stream",
     "text": [
      "Downloading Visualization RGB Image to G:/test\\20230130T022939_20230130T023625_T51RUQ_VIS_RGB.tif\n",
      "Generating URL ...\n",
      "Downloading data from https://earthengine.googleapis.com/v1alpha/projects/earthengine-legacy/thumbnails/07b1ea36b649e093a4fce360a45b379f-b0944149bed52a6492c21952bcd9395d:getPixels\n",
      "Please wait ...\n",
      "Data downloaded to G:\\test\\20230130T022939_20230130T023625_T51RUQ_VIS_RGB.tif\n",
      "Downloading Visualization NDVI Image to G:/test\\20230130T022939_20230130T023625_T51RUQ_VIS_NDVI.tif\n",
      "Generating URL ...\n",
      "Downloading data from https://earthengine.googleapis.com/v1alpha/projects/earthengine-legacy/thumbnails/ede6f55602fa55ea6a224349dc9ffd42-87f6f74372b186cc6e1ef9edef40f45e:getPixels\n",
      "Please wait ...\n",
      "Data downloaded to G:\\test\\20230130T022939_20230130T023625_T51RUQ_VIS_NDVI.tif\n",
      "Downloading Raw Image: 20230130T022939_20230130T023625_T51RVQ to G:/test\\20230130T022939_20230130T023625_T51RVQ.tif\n"
     ]
    },
    {
     "data": {
      "application/vnd.jupyter.widget-view+json": {
       "model_id": "0c3a502820404c1e8345f972c51e6452",
       "version_major": 2,
       "version_minor": 0
      },
      "text/plain": [
       "20230130T022939_20230130T023625_T51RVQ.tif: |          | 0.00/3.79M (raw) [  0.0%] in 00:00 (eta:     ?)"
      ]
     },
     "metadata": {},
     "output_type": "display_data"
    },
    {
     "name": "stdout",
     "output_type": "stream",
     "text": [
      "Downloading Visualization RGB Image to G:/test\\20230130T022939_20230130T023625_T51RVQ_VIS_RGB.tif\n",
      "Generating URL ...\n",
      "Downloading data from https://earthengine.googleapis.com/v1alpha/projects/earthengine-legacy/thumbnails/1db071e6f2b788071194d5570fb3dbfc-d2d89a8feb2193015ae07d2688513701:getPixels\n",
      "Please wait ...\n",
      "Data downloaded to G:\\test\\20230130T022939_20230130T023625_T51RVQ_VIS_RGB.tif\n",
      "Downloading Visualization NDVI Image to G:/test\\20230130T022939_20230130T023625_T51RVQ_VIS_NDVI.tif\n",
      "Generating URL ...\n",
      "Downloading data from https://earthengine.googleapis.com/v1alpha/projects/earthengine-legacy/thumbnails/987db322c517e8cd36c4f4e82de7e119-37e32593c9d1acb43a3bf11291c454dc:getPixels\n",
      "Please wait ...\n",
      "Data downloaded to G:\\test\\20230130T022939_20230130T023625_T51RVQ_VIS_NDVI.tif\n",
      "Elapsed Time: 0:01:52.436147\n"
     ]
    }
   ],
   "source": [
    "#!/usr/bin/env python\n",
    "# -*- coding: utf-8 -*-\n",
    "\"\"\"\n",
    "File: s2_test.py\n",
    "Version: v1.0\n",
    "Date: 2023-02-09\n",
    "Authors: Chen G.\n",
    "Description: This script creates downloading and processing Sentinel-2 images based on Google Earth Engine.\n",
    "License: This code is distributed under the MIT License.\n",
    "\n",
    "    Parameter:\n",
    "        START_DATE: The earliest date to include images for (inclusive).\n",
    "        END_DATE: The latest date to include images for (exclusive).\n",
    "        BANDS: The Sentinel-2 image bands to select for processing.\n",
    "        ROI: The boundry to select for processing.\n",
    "        MAX_CLOUD_PROBABILITY: (Optional) cloud cover percentage to apply s2 image collection filter.\n",
    "        CAL_NDVI: (Optional) calculate the Normalized Difference Vegetation Index (NDVI) from multiband s2 images.\n",
    "        CAL_NDMI: (Optional) calculate the Normalized Difference Moisture Index (NDMI) from multiband s2 images.\n",
    "        CLIP_TO_ROI: (Optional) clip the processed image to the region of interest.\n",
    "        SAVE_ASSETS : (Optional) exports the processed collection to an asset.\n",
    "        ASSET_ID : (Optional) the user id path to save the assets\n",
    "        SAVE_LOCAL : (Optional) download the processed images to local.\n",
    "        VISUALIZATION : (Optional) convert raw image to RGB image and download the processed images to local.\n",
    "        LOCAL_DIR : (Optional) where to save downloaded images.\n",
    "        \n",
    "    Returns:\n",
    "        An ee.ImageCollection with an analysis ready Sentinel 2 imagery with the cloud masked images and vegetation index band.\n",
    "\n",
    "\n",
    "    \"\"\"\n",
    "\n",
    "import ee\n",
    "import datetime\n",
    "import wrapper as wp\n",
    "\n",
    "\n",
    "# /***************************/\n",
    "# // MAIN\n",
    "# /***************************/\n",
    "# Parameters\n",
    "roi = ee.Geometry.Polygon(\n",
    "    [\n",
    "        [\n",
    "            [121.93826854879164, 30.970113616024253],\n",
    "            [121.92722368998854, 30.969653807534907],\n",
    "            [121.92926211306607, 30.964191528157762],\n",
    "            [121.9295732493118, 30.963142738459393],\n",
    "            [121.92982001254117, 30.96126592814542],\n",
    "            [121.92984147021329, 30.95840464144593],\n",
    "            [121.94244755425436, 30.958885338234488],\n",
    "            [121.95453596983721, 30.962624820837277],\n",
    "            [121.94630590848263, 30.981625659888707],\n",
    "            [121.93452564648922, 30.981202542714716]\n",
    "        ]\n",
    "    ]\n",
    ")\n",
    "parameter = {'START_DATE': '2023-01-20',\n",
    "             'END_DATE': '2023-01-31',\n",
    "             'BANDS': ['B2', 'B3', 'B4', 'B8', 'B11'],\n",
    "             # 'ROI': ee.Geometry.Rectangle([-47.1634, -3.00071, -45.92746, -5.43836]),\n",
    "             'ROI': roi,\n",
    "             'MAX_CLOUD_PROBABILITY': 65,\n",
    "             'CAL_NDVI': True,\n",
    "             'CAL_NDMI': False,\n",
    "             'CLIP_TO_ROI': True,\n",
    "             'SAVE_ASSET': False,\n",
    "             'ASSET_ID': \"users/gongchen9369\",\n",
    "             'SAVE_LOCAL': True,\n",
    "             'VISUALIZATION': True,\n",
    "             'LOCAL_DIR': \"G:/test/wgs84\"\n",
    "             }\n",
    "\n",
    "# /***************************/\n",
    "# // MAIN\n",
    "# /***************************/\n",
    "if __name__ == \"__main__\":\n",
    "    start_time = datetime.datetime.now()\n",
    "\n",
    "    # processed s1 collection\n",
    "    s2_processed = wp.s2_preprocess(parameter)\n",
    "\n",
    "    end_time = datetime.datetime.now()\n",
    "    print(\"Elapsed Time:\", end_time - start_time)  # 输出程序运行所需时间"
   ]
  }
 ],
 "metadata": {
  "kernelspec": {
   "display_name": "gee",
   "language": "python",
   "name": "python3"
  },
  "language_info": {
   "codemirror_mode": {
    "name": "ipython",
    "version": 3
   },
   "file_extension": ".py",
   "mimetype": "text/x-python",
   "name": "python",
   "nbconvert_exporter": "python",
   "pygments_lexer": "ipython3",
   "version": "3.10.4"
  },
  "orig_nbformat": 4,
  "vscode": {
   "interpreter": {
    "hash": "896a7d79eada75efa10dad6f0d96b47f777beb9d98c3280bc138867997bd1c02"
   }
  }
 },
 "nbformat": 4,
 "nbformat_minor": 2
}
